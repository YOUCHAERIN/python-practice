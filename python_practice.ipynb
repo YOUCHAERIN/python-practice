{
  "nbformat": 4,
  "nbformat_minor": 0,
  "metadata": {
    "colab": {
      "name": "python_practice.ipynb",
      "provenance": [],
      "collapsed_sections": [],
      "include_colab_link": true
    },
    "kernelspec": {
      "name": "python3",
      "display_name": "Python 3"
    },
    "language_info": {
      "name": "python"
    }
  },
  "cells": [
    {
      "cell_type": "markdown",
      "metadata": {
        "id": "view-in-github",
        "colab_type": "text"
      },
      "source": [
        "<a href=\"https://colab.research.google.com/github/YOUCHAERIN/python-practice/blob/main/python_practice.ipynb\" target=\"_parent\"><img src=\"https://colab.research.google.com/assets/colab-badge.svg\" alt=\"Open In Colab\"/></a>"
      ]
    },
    {
      "cell_type": "markdown",
      "source": [
        "# Python Practice"
      ],
      "metadata": {
        "id": "rFBoI5WhIP9Q"
      }
    },
    {
      "cell_type": "markdown",
      "source": [
        "## input 함수와 print 함수"
      ],
      "metadata": {
        "id": "CwcJ8r6XL3QW"
      }
    },
    {
      "cell_type": "code",
      "execution_count": null,
      "metadata": {
        "id": "2m9FbvUoINBg",
        "colab": {
          "base_uri": "https://localhost:8080/"
        },
        "outputId": "dc3d9289-15f2-40e5-99a2-497d1f52ec5c"
      },
      "outputs": [
        {
          "output_type": "stream",
          "name": "stdout",
          "text": [
            "안녕하세요? 오늘 기분은 어떤가요?좋아요\n",
            "좋아요\n",
            "오늘 기분이 \"좋아요\"라고 답했어요.\n"
          ]
        }
      ],
      "source": [
        "# input 함수와 print 함수\n",
        "\n",
        "example = input(\"안녕하세요? 오늘 기분은 어떤가요?\")\n",
        "# example 출력\n",
        "print(example)\n",
        "# f-string을 사용한 출력\n",
        "print(f\"오늘 기분이 \\\"{example}\\\"라고 답했어요.\")\n"
      ]
    },
    {
      "cell_type": "markdown",
      "source": [
        "## 문자열 자료형"
      ],
      "metadata": {
        "id": "scvQU6KpMAQq"
      }
    },
    {
      "cell_type": "code",
      "source": [
        "str=\"sookmyung\"\n",
        "print(str[0])\n",
        "print(str[0:3])"
      ],
      "metadata": {
        "id": "YdhlDXoJKk3P",
        "colab": {
          "base_uri": "https://localhost:8080/"
        },
        "outputId": "8f813921-64d2-4ce9-f79e-6ecbebaa7726"
      },
      "execution_count": null,
      "outputs": [
        {
          "output_type": "stream",
          "name": "stdout",
          "text": [
            "s\n",
            "soo\n"
          ]
        }
      ]
    },
    {
      "cell_type": "markdown",
      "source": [
        "## 리스트 자료형"
      ],
      "metadata": {
        "id": "Srb_7e00MBCK"
      }
    },
    {
      "cell_type": "code",
      "source": [
        "# sample code 작성하기\n",
        "my_list=[1,2,3,\"hi!\",4]\n",
        "print(my_list[3])"
      ],
      "metadata": {
        "id": "QysPX7v0MBhK",
        "colab": {
          "base_uri": "https://localhost:8080/"
        },
        "outputId": "e5eb6a4e-ca58-43a6-a2c9-6c1de26f1c68"
      },
      "execution_count": null,
      "outputs": [
        {
          "output_type": "stream",
          "name": "stdout",
          "text": [
            "hi!\n"
          ]
        }
      ]
    },
    {
      "cell_type": "markdown",
      "source": [
        "## 튜플 자료형"
      ],
      "metadata": {
        "id": "RBzDKWlSMC3P"
      }
    },
    {
      "cell_type": "code",
      "source": [
        "# sample code 작성하기\n",
        "my_tuple=(1,2,3)\n",
        "print(my_tuple[0])\n",
        "print(my_tuple[0:])\n",
        "type(my_tuple[0])"
      ],
      "metadata": {
        "id": "AalkYwrJMGJZ",
        "colab": {
          "base_uri": "https://localhost:8080/"
        },
        "outputId": "f046d2e4-c3d4-4d4b-8a10-547d9a470106"
      },
      "execution_count": null,
      "outputs": [
        {
          "output_type": "stream",
          "name": "stdout",
          "text": [
            "1\n",
            "(1, 2, 3)\n"
          ]
        },
        {
          "output_type": "execute_result",
          "data": {
            "text/plain": [
              "int"
            ]
          },
          "metadata": {},
          "execution_count": 21
        }
      ]
    },
    {
      "cell_type": "markdown",
      "source": [
        "## 딕셔너리 자료형"
      ],
      "metadata": {
        "id": "454XHQQ8MGso"
      }
    },
    {
      "cell_type": "code",
      "source": [
        "# sample code 작성하기\n",
        "my_dict={'apple':500,'banana':100}\n",
        "print(my_dict['apple'])"
      ],
      "metadata": {
        "id": "rmEeXjiNObBf",
        "colab": {
          "base_uri": "https://localhost:8080/"
        },
        "outputId": "85943736-ba28-471b-ce92-5ee08449131e"
      },
      "execution_count": null,
      "outputs": [
        {
          "output_type": "stream",
          "name": "stdout",
          "text": [
            "500\n"
          ]
        }
      ]
    },
    {
      "cell_type": "markdown",
      "source": [
        "# 미션 1\n",
        "#### 이름과 태어난 연도를 입력받아 나이와 함께 인사하는 코드 작성하기\n",
        "\n",
        "* 사용자에게 총 2번의 입력을 받아 각각 서로 다른 변수에 저장해주세요. <br>\n",
        "이름 (name), 태어난 해 (born)\n",
        "\n",
        "* 이 변수 2개를 모두 활용해 나이(age)를 계산한 다음, 인사를 하는 프로그램을 작성해주세요. <br>\n",
        "(예) 재석님, 안녕하세요! 올해 51살이 되셨군요?"
      ],
      "metadata": {
        "id": "AqwAnU0WOggx"
      }
    },
    {
      "cell_type": "code",
      "source": [
        "name=input(\"당신의 이름은 무엇입니까?\")\n",
        "born=input(\"태어난 해는 어떻게 되나요?\")\n",
        "age=2022-int(born)+1\n",
        "print(f\"{name}님, 안녕하세요! 올해 {age}살이 되셨군요?\")\n"
      ],
      "metadata": {
        "colab": {
          "base_uri": "https://localhost:8080/"
        },
        "id": "WgPeQ09aY6Ae",
        "outputId": "2a88446f-0555-49a6-cbb0-cdc9bcf4190c"
      },
      "execution_count": null,
      "outputs": [
        {
          "output_type": "stream",
          "name": "stdout",
          "text": [
            "당신의 이름은 무엇입니까?채린\n",
            "태어난 해는 어떻게 되나요?1997\n",
            "채린님, 안녕하세요! 올해 26살이 되셨군요?\n"
          ]
        }
      ]
    },
    {
      "cell_type": "code",
      "source": [
        "print(\"=\" * 50)\n",
        "\n",
        "# 각 값을 입력 받기\n",
        "name = input(\"이름은 무엇인가요?\")\n",
        "born = int(input(\"태어난 해가 어떻게 되시나요?\"))\n",
        "\n",
        "# 나이 계산하는 식 작성하기\n",
        "age = 2022-born+1\n",
        "\n",
        "print(\"=\" * 50)\n",
        "\n",
        "# f-string을 사용해 출력하기\n",
        "print(f\"       \")"
      ],
      "metadata": {
        "id": "epyu09CtOsLn"
      },
      "execution_count": null,
      "outputs": []
    },
    {
      "cell_type": "markdown",
      "source": [
        "## while문"
      ],
      "metadata": {
        "id": "HgoDRNvpThAL"
      }
    },
    {
      "cell_type": "code",
      "source": [
        "# sample code 작성하기"
      ],
      "metadata": {
        "id": "TFPpx725OxTC"
      },
      "execution_count": null,
      "outputs": []
    },
    {
      "cell_type": "markdown",
      "source": [
        "## for문"
      ],
      "metadata": {
        "id": "doQkOs0aTlXB"
      }
    },
    {
      "cell_type": "code",
      "source": [
        "# sample code 작성하기\n",
        "for i in range(10):\n",
        "  print(\"Hello!\")\n",
        "\n",
        "print(i)"
      ],
      "metadata": {
        "id": "_5nS-IyaTlKY",
        "colab": {
          "base_uri": "https://localhost:8080/"
        },
        "outputId": "c8a4b17a-2deb-44b1-a29d-d13164036d44"
      },
      "execution_count": null,
      "outputs": [
        {
          "output_type": "stream",
          "name": "stdout",
          "text": [
            "Hello!\n",
            "Hello!\n",
            "Hello!\n",
            "Hello!\n",
            "Hello!\n",
            "Hello!\n",
            "Hello!\n",
            "Hello!\n",
            "Hello!\n",
            "Hello!\n",
            "9\n"
          ]
        }
      ]
    },
    {
      "cell_type": "markdown",
      "source": [
        "## if문"
      ],
      "metadata": {
        "id": "u-2-BBE_Tpmw"
      }
    },
    {
      "cell_type": "code",
      "source": [
        "# sample code 작성하기\n",
        "password=\"sookmyung123\"\n",
        "my_input=input(\"PASSWORD:\")\n",
        "if password==my_input:\n",
        "  print(\"LOGIN\")\n",
        "else:\n",
        "  print(\"FAIL\")"
      ],
      "metadata": {
        "id": "15Gww_3OTpUA",
        "colab": {
          "base_uri": "https://localhost:8080/"
        },
        "outputId": "83d16d7b-c789-4deb-851a-1c0925f408dc"
      },
      "execution_count": null,
      "outputs": [
        {
          "output_type": "stream",
          "name": "stdout",
          "text": [
            "PASSWORD:sookmyung123\n",
            "LOGIN\n"
          ]
        }
      ]
    },
    {
      "cell_type": "markdown",
      "source": [
        "# 미션 2\n",
        "#### 몬스터 10마리를 잡으면 LEVEL UP!하는 프로그램 작성하기\n",
        "\n",
        "* 잡은 몬스터 수를 세는 변수에 초기값으로 0을 저장해주세요.\n",
        "* 반복문을 사용해서 몬스터를 잡을 때마다 1을 더해주세요.\n",
        "* 잡은 몬스터 수가 1마리 ~ 10마리일 때까지 현재 몬스터 수를 출력하고\n",
        "* 10마리가 되면 LEVEL UP!을 출력해주세요.\n"
      ],
      "metadata": {
        "id": "2Yx_mmrpboIW"
      }
    },
    {
      "cell_type": "code",
      "source": [
        "monster=0\n",
        "while monster<10:\n",
        "  print(f\"몬스터는 현재 {monster}마리 있습니다. 더 잡아야 해요!\")\n",
        "  monster=monster+1\n",
        "  if monster==10:\n",
        "    print(monster,\"LEVEL UP!\")"
      ],
      "metadata": {
        "colab": {
          "base_uri": "https://localhost:8080/"
        },
        "id": "XkDwEpX2iano",
        "outputId": "e4abb16a-cedb-44fb-a87d-215233e12b5b"
      },
      "execution_count": null,
      "outputs": [
        {
          "output_type": "stream",
          "name": "stdout",
          "text": [
            "몬스터는 현재 0마리 있습니다. 더 잡아야 해요!\n",
            "몬스터는 현재 1마리 있습니다. 더 잡아야 해요!\n",
            "몬스터는 현재 2마리 있습니다. 더 잡아야 해요!\n",
            "몬스터는 현재 3마리 있습니다. 더 잡아야 해요!\n",
            "몬스터는 현재 4마리 있습니다. 더 잡아야 해요!\n",
            "몬스터는 현재 5마리 있습니다. 더 잡아야 해요!\n",
            "몬스터는 현재 6마리 있습니다. 더 잡아야 해요!\n",
            "몬스터는 현재 7마리 있습니다. 더 잡아야 해요!\n",
            "몬스터는 현재 8마리 있습니다. 더 잡아야 해요!\n",
            "몬스터는 현재 9마리 있습니다. 더 잡아야 해요!\n",
            "10 LEVEL UP!\n"
          ]
        }
      ]
    },
    {
      "cell_type": "code",
      "source": [
        "monster=0\n",
        "while monster<10:\n",
        "  monster=monster+1\n",
        "  print(f\"몬스터는 현재 {monster}마리 있습니다.더 잡아야 해요!\")\n",
        "print(monster,\"LEVEL UP!\")"
      ],
      "metadata": {
        "colab": {
          "base_uri": "https://localhost:8080/"
        },
        "id": "luKT1gzutp5c",
        "outputId": "1c293329-d9c0-45cf-90f8-9a44f7e79c86"
      },
      "execution_count": null,
      "outputs": [
        {
          "output_type": "stream",
          "name": "stdout",
          "text": [
            "몬스터는 현재 1마리 있습니다.더 잡아야 해요!\n",
            "몬스터는 현재 2마리 있습니다.더 잡아야 해요!\n",
            "몬스터는 현재 3마리 있습니다.더 잡아야 해요!\n",
            "몬스터는 현재 4마리 있습니다.더 잡아야 해요!\n",
            "몬스터는 현재 5마리 있습니다.더 잡아야 해요!\n",
            "몬스터는 현재 6마리 있습니다.더 잡아야 해요!\n",
            "몬스터는 현재 7마리 있습니다.더 잡아야 해요!\n",
            "몬스터는 현재 8마리 있습니다.더 잡아야 해요!\n",
            "몬스터는 현재 9마리 있습니다.더 잡아야 해요!\n",
            "몬스터는 현재 10마리 있습니다.더 잡아야 해요!\n",
            "10 LEVEL UP!\n"
          ]
        }
      ]
    },
    {
      "cell_type": "code",
      "source": [
        "monster=0\n",
        "while monster<10:\n",
        "  monster=monster+1\n",
        "  print(f\"몬스터는 현재 {monster}마리 있습니다.더 잡아야 해요!\")\n",
        "  if monster==10:\n",
        "    print(monster,\"LEVEL UP!\")"
      ],
      "metadata": {
        "colab": {
          "base_uri": "https://localhost:8080/"
        },
        "id": "SmFAwHxzldfU",
        "outputId": "7afcadfa-37df-4f92-d50a-b2250bdba5f2"
      },
      "execution_count": null,
      "outputs": [
        {
          "output_type": "stream",
          "name": "stdout",
          "text": [
            "몬스터는 현재 1마리 있습니다.더 잡아야 해요!\n",
            "몬스터는 현재 2마리 있습니다.더 잡아야 해요!\n",
            "몬스터는 현재 3마리 있습니다.더 잡아야 해요!\n",
            "몬스터는 현재 4마리 있습니다.더 잡아야 해요!\n",
            "몬스터는 현재 5마리 있습니다.더 잡아야 해요!\n",
            "몬스터는 현재 6마리 있습니다.더 잡아야 해요!\n",
            "몬스터는 현재 7마리 있습니다.더 잡아야 해요!\n",
            "몬스터는 현재 8마리 있습니다.더 잡아야 해요!\n",
            "몬스터는 현재 9마리 있습니다.더 잡아야 해요!\n",
            "몬스터는 현재 10마리 있습니다.더 잡아야 해요!\n",
            "10 LEVEL UP!\n"
          ]
        }
      ]
    },
    {
      "cell_type": "code",
      "source": [
        "num=0\n",
        "for num in range(11):\n",
        "  if num<10:\n",
        "    print(f\"몬스터는 현재 {num}마리 있습니다.더 잡아야 해요!\")\n",
        "    num=num+1\n",
        "  elif num==10:\n",
        "    print(\"LEVEL UP!\")\n",
        "    "
      ],
      "metadata": {
        "colab": {
          "base_uri": "https://localhost:8080/"
        },
        "id": "G9br-aJugmt_",
        "outputId": "d08b8c47-07d2-447c-e76c-e4f2fcc5a8e3"
      },
      "execution_count": null,
      "outputs": [
        {
          "output_type": "stream",
          "name": "stdout",
          "text": [
            "몬스터는 현재 0마리 있습니다.더 잡아야 해요!\n",
            "몬스터는 현재 1마리 있습니다.더 잡아야 해요!\n",
            "몬스터는 현재 2마리 있습니다.더 잡아야 해요!\n",
            "몬스터는 현재 3마리 있습니다.더 잡아야 해요!\n",
            "몬스터는 현재 4마리 있습니다.더 잡아야 해요!\n",
            "몬스터는 현재 5마리 있습니다.더 잡아야 해요!\n",
            "몬스터는 현재 6마리 있습니다.더 잡아야 해요!\n",
            "몬스터는 현재 7마리 있습니다.더 잡아야 해요!\n",
            "몬스터는 현재 8마리 있습니다.더 잡아야 해요!\n",
            "몬스터는 현재 9마리 있습니다.더 잡아야 해요!\n",
            "LEVEL UP!\n"
          ]
        }
      ]
    },
    {
      "cell_type": "code",
      "source": [
        "monster=0\n",
        "while monster<10:\n",
        "  answer=input(\"몬스터를 잡으시겠습니까?(Y 또는 N만 인정)\")\n",
        "  if answer==\"Y\":\n",
        "    monster=monster+1\n",
        "    print(f\"몬스터는 현재 {monster}마리 있습니다. 더 잡아야 해요!\")\n",
        "  elif answer==\"N\":\n",
        "    monster=monster-1\n",
        "    print(f\"몬스터는 현재 {monster}마리 있습니다. 더 잡아야 해요!\")\n",
        "  else:\n",
        "    print(\"잘못입력하셨습니다.\")\n",
        "print(\"LEVEL UP!\")"
      ],
      "metadata": {
        "colab": {
          "base_uri": "https://localhost:8080/"
        },
        "id": "uT82JlXvvEaO",
        "outputId": "4b4bfd21-5217-4a6a-c04e-e324f9104619"
      },
      "execution_count": null,
      "outputs": [
        {
          "output_type": "stream",
          "name": "stdout",
          "text": [
            "몬스터를 잡으시겠습니까?(Y 또는 N만 인정)0\n",
            "잘못입력하셨습니다.\n",
            "몬스터를 잡으시겠습니까?(Y 또는 N만 인정)N\n",
            "몬스터는 현재 -1마리 있습니다. 더 잡아야 해요!\n",
            "몬스터를 잡으시겠습니까?(Y 또는 N만 인정)Y\n",
            "몬스터는 현재 0마리 있습니다. 더 잡아야 해요!\n",
            "몬스터를 잡으시겠습니까?(Y 또는 N만 인정)Y\n",
            "몬스터는 현재 1마리 있습니다. 더 잡아야 해요!\n",
            "몬스터를 잡으시겠습니까?(Y 또는 N만 인정)N\n",
            "몬스터는 현재 0마리 있습니다. 더 잡아야 해요!\n",
            "몬스터를 잡으시겠습니까?(Y 또는 N만 인정)Y\n",
            "몬스터는 현재 1마리 있습니다. 더 잡아야 해요!\n",
            "몬스터를 잡으시겠습니까?(Y 또는 N만 인정)N\n",
            "몬스터는 현재 0마리 있습니다. 더 잡아야 해요!\n",
            "몬스터를 잡으시겠습니까?(Y 또는 N만 인정)Y\n",
            "몬스터는 현재 1마리 있습니다. 더 잡아야 해요!\n",
            "몬스터를 잡으시겠습니까?(Y 또는 N만 인정)Y\n",
            "몬스터는 현재 2마리 있습니다. 더 잡아야 해요!\n",
            "몬스터를 잡으시겠습니까?(Y 또는 N만 인정)\n",
            "잘못입력하셨습니다.\n",
            "몬스터를 잡으시겠습니까?(Y 또는 N만 인정)Y\n",
            "몬스터는 현재 3마리 있습니다. 더 잡아야 해요!\n",
            "몬스터를 잡으시겠습니까?(Y 또는 N만 인정)\n",
            "잘못입력하셨습니다.\n",
            "몬스터를 잡으시겠습니까?(Y 또는 N만 인정)Y\n",
            "몬스터는 현재 4마리 있습니다. 더 잡아야 해요!\n",
            "몬스터를 잡으시겠습니까?(Y 또는 N만 인정)Y\n",
            "몬스터는 현재 5마리 있습니다. 더 잡아야 해요!\n",
            "몬스터를 잡으시겠습니까?(Y 또는 N만 인정)Y\n",
            "몬스터는 현재 6마리 있습니다. 더 잡아야 해요!\n",
            "몬스터를 잡으시겠습니까?(Y 또는 N만 인정)Y\n",
            "몬스터는 현재 7마리 있습니다. 더 잡아야 해요!\n",
            "몬스터를 잡으시겠습니까?(Y 또는 N만 인정)Y\n",
            "몬스터는 현재 8마리 있습니다. 더 잡아야 해요!\n",
            "몬스터를 잡으시겠습니까?(Y 또는 N만 인정)Y\n",
            "몬스터는 현재 9마리 있습니다. 더 잡아야 해요!\n",
            "몬스터를 잡으시겠습니까?(Y 또는 N만 인정)Y\n",
            "몬스터는 현재 10마리 있습니다. 더 잡아야 해요!\n",
            "LEVEL UP!\n"
          ]
        }
      ]
    },
    {
      "cell_type": "code",
      "source": [
        "monster=0\n",
        "while monster<10:\n",
        "  answer=input(\"몬스터를 잡으시겠습니까?(Y 또는 N만 인정)\")\n",
        "  if answer==\"Y\":\n",
        "    print(f\"몬스터는 현재 {monster}마리 있습니다. 더 잡아야 해요!\")\n",
        "    monster=monster+1\n",
        "  elif answer==\"N\":\n",
        "    monster=monster-1\n",
        "    print(f\"몬스터는 현재 {monster}마리 있습니다. 더 잡아야 해요!\")\n",
        "  else:\n",
        "    print(\"잘못입력하셨습니다.\")\n",
        "print(f\"현재 {monster}마리 이LEVEL UP!\")"
      ],
      "metadata": {
        "colab": {
          "base_uri": "https://localhost:8080/"
        },
        "id": "zdxE5mh80SDw",
        "outputId": "812e6330-bfbb-42ad-a066-a1c20fdad9d1"
      },
      "execution_count": null,
      "outputs": [
        {
          "output_type": "stream",
          "name": "stdout",
          "text": [
            "몬스터를 잡으시겠습니까?(Y 또는 N만 인정)Y\n",
            "몬스터는 현재 0마리 있습니다. 더 잡아야 해요!\n",
            "몬스터를 잡으시겠습니까?(Y 또는 N만 인정)Y\n",
            "몬스터는 현재 1마리 있습니다. 더 잡아야 해요!\n",
            "몬스터를 잡으시겠습니까?(Y 또는 N만 인정)Y\n",
            "몬스터는 현재 2마리 있습니다. 더 잡아야 해요!\n",
            "몬스터를 잡으시겠습니까?(Y 또는 N만 인정)Y\n",
            "몬스터는 현재 3마리 있습니다. 더 잡아야 해요!\n",
            "몬스터를 잡으시겠습니까?(Y 또는 N만 인정)Y\n",
            "몬스터는 현재 4마리 있습니다. 더 잡아야 해요!\n",
            "몬스터를 잡으시겠습니까?(Y 또는 N만 인정)Y\n",
            "몬스터는 현재 5마리 있습니다. 더 잡아야 해요!\n",
            "몬스터를 잡으시겠습니까?(Y 또는 N만 인정)Y\n",
            "몬스터는 현재 6마리 있습니다. 더 잡아야 해요!\n",
            "몬스터를 잡으시겠습니까?(Y 또는 N만 인정)\n",
            "잘못입력하셨습니다.\n",
            "몬스터를 잡으시겠습니까?(Y 또는 N만 인정)Y\n",
            "몬스터는 현재 7마리 있습니다. 더 잡아야 해요!\n",
            "몬스터를 잡으시겠습니까?(Y 또는 N만 인정)Y\n",
            "몬스터는 현재 8마리 있습니다. 더 잡아야 해요!\n",
            "몬스터를 잡으시겠습니까?(Y 또는 N만 인정)Y\n",
            "몬스터는 현재 9마리 있습니다. 더 잡아야 해요!\n",
            "LEVEL UP!\n"
          ]
        }
      ]
    },
    {
      "cell_type": "code",
      "source": [
        "YY\n",
        "Y\n",
        "YYkill_count = 0\n",
        "\n",
        "# 10번 반복하기\n",
        "\n",
        "# 반복문 안에서는 kill_count에 1을 더하고 현재 몬스터 수를 출력한다.\n"
      ],
      "metadata": {
        "id": "u6SIOQdEbon0"
      },
      "execution_count": null,
      "outputs": []
    },
    {
      "cell_type": "markdown",
      "source": [
        "# 미션 3\n",
        "#### 카페 주문 프로그램 작성하기 (토요일 오전 미션)\n",
        "\n",
        "* 1번 메뉴는 아메리카노(4100원), 2번 메뉴는 카페라떼(4600원), 3번 메뉴는 바닐라라떼(5100원)입니다.\n",
        "* 주문하실 메뉴 번호(order)를 입력합니다.\n",
        "* 조건문을 이용해서 메뉴 번호(order)에 맞는 금액(price)이 계산되도록 식을 만들어주세요. (1을 입력하면 4100원, 2를 입력하면 4600원, 3을 입력하면 5100원)\n",
        "* 총 금액(total_price)을 구하는 식을 만들어주세요.\n",
        "* 투입한 금액(money)이 총 금액보다 크면 거스름돈(change)을 계산하고, 부족하면 주문을 취소합니다.\n",
        "* 메뉴 번호 4를 입력하면 주문이 취소되면서 반복문을 빠져나옵니다.\n",
        "\n"
      ],
      "metadata": {
        "id": "17AqYKjngEo3"
      }
    },
    {
      "cell_type": "code",
      "source": [
        "while True :\n",
        "  print(\"=\" * 45)\n",
        "  menu = \" 1. 아메리카노 : 4100원 \\n 2. 카페라떼 : 4600원 \\n 3. 바닐라라떼 : 5100원\"\n",
        "  print(menu)\n",
        "  print(\"=\" * 45)\n",
        "  order=input(\"몇 번 메뉴를 주문하시겠습니까?\")\n",
        "  if order==\"1\":\n",
        "    price=4100\n",
        "    num=int(input(\"몇 잔을 주문하시겠습니까?\"))\n",
        "    total_price=price*num\n",
        "    print(f\"현재 {order}번 메뉴를 총 {num}잔 주문하셔서 {total_price}입니다. 돈을 투입해주세요.\")\n",
        "    money=int(input(\"얼마를 투입하시겠습니까?\"))\n",
        "    if money>total_price:\n",
        "      change=money-total_price\n",
        "      print(f\"주문하신 메뉴와 거스름돈 {change}입니다.\")\n",
        "    else:\n",
        "      print(\"금액이 부족해서 주문이 취소됩니다.\")\n",
        "    break\n",
        "  elif order==\"2\":\n",
        "    price=4600\n",
        "    num=int(input(\"몇 잔을 주문하시겠습니까?\"))\n",
        "    total_price=price*num\n",
        "    print(f\"현재 {order}번 메뉴를 총 {num}잔 주문하셔서 {total_price}입니다. 돈을 투입해주세요.\")\n",
        "    money=int(input(\"얼마를 투입하시겠습니까?\"))\n",
        "    if money>total_price:\n",
        "      change=money-total_price\n",
        "      print(f\"주문하신 메뉴와 거스름돈 {change}입니다.\")\n",
        "    else:\n",
        "      print(\"금액이 부족해서 주문이 취소됩니다.\")\n",
        "    break\n",
        "  elif order==\"3\":\n",
        "    price=5100\n",
        "    num=int(input(\"몇 잔을 주문하시겠습니까?\"))\n",
        "    total_price=price*num\n",
        "    print(f\"현재 {order}번 메뉴를 총 {num}잔 주문하셔서 {total_price}입니다. 돈을 투입해주세요.\")\n",
        "    money=int(input(\"얼마를 투입하시겠습니까?\"))\n",
        "    if money>total_price:\n",
        "      change=money-total_price\n",
        "      print(f\"주문하신 메뉴와 거스름돈 {change}입니다.\")\n",
        "    else:\n",
        "      print(\"금액이 부족해서 주문이 취소됩니다.\")\n",
        "    break\n",
        "  else:\n",
        "    print(\"잘못주문하셨습니다.주문이 취소됩니다.\")\n",
        "  break\n",
        "    \n"
      ],
      "metadata": {
        "colab": {
          "base_uri": "https://localhost:8080/"
        },
        "id": "pGtLIYL7gzD0",
        "outputId": "02653ee6-e82c-4f3d-aa55-05ca87f3d0c6"
      },
      "execution_count": 9,
      "outputs": [
        {
          "output_type": "stream",
          "name": "stdout",
          "text": [
            "=============================================\n",
            " 1. 아메리카노 : 4100원 \n",
            " 2. 카페라떼 : 4600원 \n",
            " 3. 바닐라라떼 : 5100원\n",
            "=============================================\n",
            "몇 번 메뉴를 주문하시겠습니까?2\n",
            "몇 잔을 주문하시겠습니까?1\n",
            "현재 2번 메뉴를 총 1잔 주문하셔서 4600입니다. 돈을 투입해주세요.\n",
            "얼마를 투입하시겠습니까?5000\n",
            "주문하신 메뉴와 거스름돈 400입니다.\n"
          ]
        }
      ]
    },
    {
      "cell_type": "code",
      "source": [
        ""
      ],
      "metadata": {
        "id": "ggVtgkjivza-"
      },
      "execution_count": null,
      "outputs": []
    },
    {
      "cell_type": "code",
      "source": [
        "import re\n",
        "while True:\n",
        "  print(\"=\" * 45)\n",
        "  print(\"안녕하세요, 숙명카페입니다.아래의 메뉴를 확인해주세요.\\n 아메리카노 : 4100원 \\n 카페라떼 : 4600원 \\n 바닐라라떼 : 5100원\")\n",
        "  munu={\"아메리카노\":4100,\"카페라떼\":4600,\"바닐라라떼\":5100}\n",
        "  order=input(\"주문하실 메뉴는 무엇인가요?\")\n",
        "  if order in [\"아메리카노\", \"카페라떼\",\"바닐라라떼\"]:\n",
        "    if order==\"아메리카노\":\n",
        "      price=menu[\"아메리카노\"]\n",
        "    elif order==\"카페라떼\":\n",
        "      price=menu[\"카페라떼\"]\n",
        "    else:\n",
        "      price=menu[\"바닐라라떼\"]\n",
        "  cups=input(f\"{order} 메뉴 주문하셨습니다. 총 몇 잔 드릴까요?\")\n",
        "  num_cups=re.sub(r'[^0-9]','',cups)\n",
        "  int(num_cups)\n",
        "  total=num_order*num_cups\n",
        "  print(f\"{num_order}번 메뉴 {num_cups}잔 전체 {total}원 입니다. 돈을 투입해주세요.\")\n",
        "  money=input(\"얼마를 투입하시겠습니까?\")\n",
        "  num_money=re.sub(r'[^0-9]','',money)\n",
        "  int(num_money)\n",
        "  change=total-num_money\n",
        "  print(f\"{num_money}원 받아서 거스름돈은 {change}원입니다.\")\n",
        "  break\n",
        "  else:\n",
        "    print(\"없는 메뉴로 주문은 자동취소됩니다.\")\n",
        "    break"
      ],
      "metadata": {
        "id": "s4jfvQQNuS-Z",
        "colab": {
          "base_uri": "https://localhost:8080/"
        },
        "outputId": "5e714160-92b7-48df-f58e-dc95bd01285a"
      },
      "execution_count": 15,
      "outputs": [
        {
          "output_type": "stream",
          "name": "stdout",
          "text": [
            "=============================================\n",
            "안녕하세요, 숙명카페입니다.아래의 메뉴를 확인해주세요.\n",
            " 1. 아메리카노 : 4100원 \n",
            " 2. 카페라떼 : 4600원 \n",
            " 3. 바닐라라떼 : 5100원\n",
            "주문하실 메뉴는 무엇인가요? 메뉴의 숫자를 입력해주세요.2번\n",
            "없는 메뉴로 주문은 자동취소됩니다.\n"
          ]
        }
      ]
    },
    {
      "cell_type": "code",
      "source": [
        "while True :\n",
        "  print(\"=\" * 45)\n",
        "  menu = \" 1. 아메리카노 : 4100원 \\n 2. 카페라떼 : 4600원 \\n 3. 바닐라라떼 : 5100원 \\n 4. 주문 종료\"\n",
        "  print(menu)\n",
        "  print(\"=\" * 45)\n",
        "\n",
        "  # 커피 종류를 입력받습니다. \n",
        "  order = \n",
        "\n",
        "  if 1 <= order <= 3 :\n",
        "    # 입력한 커피 가격을 price 변수에 넣어줍니다. \n",
        "\n",
        "    cups = int(input(\"몇 잔을 드릴까요? 잔 수 입력 >>> \"))\n",
        "    # 총 금액을 계산하고 total_price 변수에 넣어줍니다.\n",
        "\n",
        "    money = int(input(f\"총 금액은 {total_price}원 입니다. 돈을 투입해주세요 >>> \"))\n",
        "    # 총 금액보다 투입 금액이 큰 경우 거스름돈을 계산하고 출력합니다.\n",
        "    if \n",
        "\n",
        "    # 총 금액보다 작은 금액을 입력한 경우 주문을 취소합니다.\n",
        "    else :\n",
        "      print(\"금액이 부족합니다. 주문이 취소되었습니다.\")\n",
        "\n",
        "  elif order == 4 :\n",
        "    # 4를 입력하면 주문을 종료하고 반복문을 빠져나갑니다.\n",
        "    print(\"주문을 종료합니다.\")\n",
        "    # 반복문 빠져나가기\n",
        "\n",
        "  # 1,2,3,4가 아닌 다른 숫자를 입력한 경우 \"잘못된 주문입니다\"를 출력합니다.\n",
        "  else :\n",
        "      print(\"잘못된 주문입니다.\")"
      ],
      "metadata": {
        "id": "wRrKf3NJg_yy"
      },
      "execution_count": null,
      "outputs": []
    }
  ]
}